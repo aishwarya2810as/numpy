{
 "cells": [
  {
   "cell_type": "code",
   "execution_count": 2,
   "id": "3ff2976a-15a9-4ee8-a169-2e6bca972c18",
   "metadata": {},
   "outputs": [
    {
     "data": {
      "text/plain": [
       "'hello'"
      ]
     },
     "execution_count": 2,
     "metadata": {},
     "output_type": "execute_result"
    }
   ],
   "source": [
    "\"hello\""
   ]
  },
  {
   "cell_type": "code",
   "execution_count": 3,
   "id": "08575d30-041b-4e85-9592-3ebb243281be",
   "metadata": {},
   "outputs": [
    {
     "data": {
      "text/plain": [
       "'hello'"
      ]
     },
     "execution_count": 3,
     "metadata": {},
     "output_type": "execute_result"
    }
   ],
   "source": [
    "'hello'"
   ]
  },
  {
   "cell_type": "code",
   "execution_count": 4,
   "id": "8c6b569a-e7b3-43bd-a523-c6e3bb2178d8",
   "metadata": {},
   "outputs": [
    {
     "data": {
      "text/plain": [
       "3"
      ]
     },
     "execution_count": 4,
     "metadata": {},
     "output_type": "execute_result"
    }
   ],
   "source": [
    "1+2"
   ]
  },
  {
   "cell_type": "code",
   "execution_count": 5,
   "id": "bd5bfd9f-7fd4-4a4b-abb6-0b7e3cf0b725",
   "metadata": {},
   "outputs": [
    {
     "name": "stdout",
     "output_type": "stream",
     "text": [
      "Requirement already satisfied: numpy in c:\\users\\aishwarya\\anaconda3\\lib\\site-packages (1.26.4)\n",
      "Note: you may need to restart the kernel to use updated packages.\n"
     ]
    }
   ],
   "source": [
    "pip install numpy\n"
   ]
  },
  {
   "cell_type": "code",
   "execution_count": 3,
   "id": "9814b18b-c1e0-430e-bef2-c5e141105c4d",
   "metadata": {},
   "outputs": [
    {
     "data": {
      "text/plain": [
       "array([1, 2, 3, 4, 5])"
      ]
     },
     "execution_count": 3,
     "metadata": {},
     "output_type": "execute_result"
    }
   ],
   "source": [
    "import numpy as np\n",
    "my_list=[1,2,3,4,5]\n",
    "my_array=np.array(my_list)\n",
    "my_array"
   ]
  },
  {
   "cell_type": "code",
   "execution_count": 2,
   "id": "35cee24f-0b6c-4e5a-b3d2-5b4c76f217cc",
   "metadata": {},
   "outputs": [
    {
     "data": {
      "text/plain": [
       "[[1, 2, 3, 4, 5], [11, 22, 33, 44, 55]]"
      ]
     },
     "execution_count": 2,
     "metadata": {},
     "output_type": "execute_result"
    }
   ],
   "source": [
    "my_list2=[11,22,33,44,55]\n",
    "my_lists=[my_list,my_list2]\n",
    "my_lists"
   ]
  },
  {
   "cell_type": "code",
   "execution_count": 3,
   "id": "bd3e5dd3-b8fb-4fdf-bffb-8946f0091b60",
   "metadata": {},
   "outputs": [
    {
     "data": {
      "text/plain": [
       "array([[ 1,  2,  3,  4,  5],\n",
       "       [11, 22, 33, 44, 55]])"
      ]
     },
     "execution_count": 3,
     "metadata": {},
     "output_type": "execute_result"
    }
   ],
   "source": [
    "my_array2=np.array(my_lists)\n",
    "my_array2"
   ]
  },
  {
   "cell_type": "code",
   "execution_count": 4,
   "id": "9c23abd9-750b-45bb-b38c-a05faa90add8",
   "metadata": {},
   "outputs": [
    {
     "data": {
      "text/plain": [
       "(2, 5)"
      ]
     },
     "execution_count": 4,
     "metadata": {},
     "output_type": "execute_result"
    }
   ],
   "source": [
    "my_array2.shape"
   ]
  },
  {
   "cell_type": "code",
   "execution_count": 5,
   "id": "d501887f-22ef-4881-a1f4-aae9147f4f46",
   "metadata": {},
   "outputs": [
    {
     "data": {
      "text/plain": [
       "dtype('int32')"
      ]
     },
     "execution_count": 5,
     "metadata": {},
     "output_type": "execute_result"
    }
   ],
   "source": [
    "my_array.dtype"
   ]
  },
  {
   "cell_type": "code",
   "execution_count": 6,
   "id": "173b2769-deaa-432d-b8ca-b9b830afaede",
   "metadata": {},
   "outputs": [
    {
     "data": {
      "text/plain": [
       "array([0., 0., 0., 0., 0.])"
      ]
     },
     "execution_count": 6,
     "metadata": {},
     "output_type": "execute_result"
    }
   ],
   "source": [
    "np.zeros(5)"
   ]
  },
  {
   "cell_type": "code",
   "execution_count": 8,
   "id": "1ca916f3-7bff-4b7c-9222-9db374e2ac11",
   "metadata": {},
   "outputs": [
    {
     "data": {
      "text/plain": [
       "dtype('float64')"
      ]
     },
     "execution_count": 8,
     "metadata": {},
     "output_type": "execute_result"
    }
   ],
   "source": [
    "my_zeros_array=np.zeros(5)\n",
    "my_zeros_array.dtype"
   ]
  },
  {
   "cell_type": "code",
   "execution_count": 9,
   "id": "7a2a765a-24c5-43bc-b680-0c573bb9488a",
   "metadata": {},
   "outputs": [
    {
     "data": {
      "text/plain": [
       "array([[1., 1., 1., 1., 1.],\n",
       "       [1., 1., 1., 1., 1.],\n",
       "       [1., 1., 1., 1., 1.],\n",
       "       [1., 1., 1., 1., 1.],\n",
       "       [1., 1., 1., 1., 1.]])"
      ]
     },
     "execution_count": 9,
     "metadata": {},
     "output_type": "execute_result"
    }
   ],
   "source": [
    "np.ones([5,5])\n"
   ]
  },
  {
   "cell_type": "code",
   "execution_count": 10,
   "id": "5f06d75d-4cb1-4c54-ab26-531f8da6a5f3",
   "metadata": {},
   "outputs": [
    {
     "data": {
      "text/plain": [
       "array([[1., 0., 0., 0.],\n",
       "       [0., 1., 0., 0.],\n",
       "       [0., 0., 1., 0.],\n",
       "       [0., 0., 0., 1.]])"
      ]
     },
     "execution_count": 10,
     "metadata": {},
     "output_type": "execute_result"
    }
   ],
   "source": [
    "np.eye(4)"
   ]
  },
  {
   "cell_type": "code",
   "execution_count": 12,
   "id": "86ea0c16-e9ea-4777-a2bc-80261a3efce3",
   "metadata": {},
   "outputs": [
    {
     "data": {
      "text/plain": [
       "array([0, 1, 2, 3, 4])"
      ]
     },
     "execution_count": 12,
     "metadata": {},
     "output_type": "execute_result"
    }
   ],
   "source": [
    "np.arange(5)\n"
   ]
  },
  {
   "cell_type": "code",
   "execution_count": 13,
   "id": "62738cb5-36af-40f3-a7d9-07dce58e2901",
   "metadata": {},
   "outputs": [
    {
     "data": {
      "text/plain": [
       "array([ 5,  7,  9, 11, 13, 15, 17, 19])"
      ]
     },
     "execution_count": 13,
     "metadata": {},
     "output_type": "execute_result"
    }
   ],
   "source": [
    "np.arange(5,20,2)"
   ]
  },
  {
   "cell_type": "code",
   "execution_count": 14,
   "id": "c7fd9262-9352-4bf6-859c-f89dc816ee18",
   "metadata": {},
   "outputs": [
    {
     "data": {
      "text/plain": [
       "2.5"
      ]
     },
     "execution_count": 14,
     "metadata": {},
     "output_type": "execute_result"
    }
   ],
   "source": [
    "5/2"
   ]
  },
  {
   "cell_type": "code",
   "execution_count": 18,
   "id": "b8aa4794-3edd-4b4b-b01a-ec4930846f5b",
   "metadata": {},
   "outputs": [
    {
     "data": {
      "text/plain": [
       "array([[   1,    4,    9,   16,   25],\n",
       "       [ 121,  484, 1089, 1936, 3025]])"
      ]
     },
     "execution_count": 18,
     "metadata": {},
     "output_type": "execute_result"
    }
   ],
   "source": [
    "my_array2*my_array2"
   ]
  },
  {
   "cell_type": "markdown",
   "id": "d37065c1-73cb-45f9-a416-973a231f3876",
   "metadata": {},
   "source": [
    "used to multiply each element with the element in its position"
   ]
  },
  {
   "cell_type": "code",
   "execution_count": 17,
   "id": "2f905c95-d382-4875-bf64-c1385aabee24",
   "metadata": {},
   "outputs": [
    {
     "data": {
      "text/plain": [
       "array([[ 1,  2,  3,  4,  5],\n",
       "       [11, 22, 33, 44, 55]])"
      ]
     },
     "execution_count": 17,
     "metadata": {},
     "output_type": "execute_result"
    }
   ],
   "source": [
    "my_array2"
   ]
  },
  {
   "cell_type": "code",
   "execution_count": 19,
   "id": "87b69a94-4f8a-4e7f-b6f1-83721d8ed257",
   "metadata": {},
   "outputs": [
    {
     "data": {
      "text/plain": [
       "array([[0, 0, 0, 0, 0],\n",
       "       [0, 0, 0, 0, 0]])"
      ]
     },
     "execution_count": 19,
     "metadata": {},
     "output_type": "execute_result"
    }
   ],
   "source": [
    "my_array2-my_array2"
   ]
  },
  {
   "cell_type": "code",
   "execution_count": 20,
   "id": "75e70c74-1cf4-44d0-9fcd-014968ac87d4",
   "metadata": {},
   "outputs": [
    {
     "data": {
      "text/plain": [
       "array([[  2,   4,   6,   8,  10],\n",
       "       [ 22,  44,  66,  88, 110]])"
      ]
     },
     "execution_count": 20,
     "metadata": {},
     "output_type": "execute_result"
    }
   ],
   "source": [
    "my_array2*2"
   ]
  },
  {
   "cell_type": "code",
   "execution_count": 23,
   "id": "c261e1f5-0c00-44a1-a0f0-ed0515edd143",
   "metadata": {},
   "outputs": [
    {
     "data": {
      "text/plain": [
       "array([[   1,    4,    9,   16,   25],\n",
       "       [ 121,  484, 1089, 1936, 3025]])"
      ]
     },
     "execution_count": 23,
     "metadata": {},
     "output_type": "execute_result"
    }
   ],
   "source": [
    "my_array2 **2"
   ]
  },
  {
   "cell_type": "markdown",
   "id": "a428d082-b5d8-4d44-ad67-67ae07262024",
   "metadata": {},
   "source": [
    "above statement is used to raise to the power of 2\n"
   ]
  },
  {
   "cell_type": "code",
   "execution_count": 3,
   "id": "13bc8461-e179-4c35-a16d-7f6ddd67ca0f",
   "metadata": {},
   "outputs": [
    {
     "data": {
      "text/plain": [
       "array([ 0,  1,  2,  3,  4,  5,  6,  7,  8,  9, 10])"
      ]
     },
     "execution_count": 3,
     "metadata": {},
     "output_type": "execute_result"
    }
   ],
   "source": [
    "arr=np.arange(0,11)\n",
    "arr"
   ]
  },
  {
   "cell_type": "code",
   "execution_count": 4,
   "id": "ae0c3e17-694c-4fdd-8a21-3e8c41b6587c",
   "metadata": {},
   "outputs": [
    {
     "data": {
      "text/plain": [
       "9"
      ]
     },
     "execution_count": 4,
     "metadata": {},
     "output_type": "execute_result"
    }
   ],
   "source": [
    "arr[9]\n"
   ]
  },
  {
   "cell_type": "code",
   "execution_count": 5,
   "id": "2fa2fdc2-d55b-43a4-84d3-b1f80c138290",
   "metadata": {},
   "outputs": [
    {
     "data": {
      "text/plain": [
       "array([0, 1, 2, 3, 4, 5])"
      ]
     },
     "execution_count": 5,
     "metadata": {},
     "output_type": "execute_result"
    }
   ],
   "source": [
    "arr[0:6]"
   ]
  },
  {
   "cell_type": "code",
   "execution_count": 9,
   "id": "a58845aa-1377-413f-93fc-7037979225cb",
   "metadata": {},
   "outputs": [
    {
     "data": {
      "text/plain": [
       "array([100, 100, 100, 100, 100,   5,   6,   7,   8,   9,  10])"
      ]
     },
     "execution_count": 9,
     "metadata": {},
     "output_type": "execute_result"
    }
   ],
   "source": [
    "arr[0:5]= 100\n",
    "arr"
   ]
  },
  {
   "cell_type": "code",
   "execution_count": 10,
   "id": "4bc928fa-6600-41f9-bf17-c42ecc4118e1",
   "metadata": {},
   "outputs": [
    {
     "data": {
      "text/plain": [
       "array([ 0,  1,  2,  3,  4,  5,  6,  7,  8,  9, 10])"
      ]
     },
     "execution_count": 10,
     "metadata": {},
     "output_type": "execute_result"
    }
   ],
   "source": [
    "arr=np.arange(0,11)\n",
    "arr"
   ]
  },
  {
   "cell_type": "code",
   "execution_count": 11,
   "id": "e1153522-3f27-4dca-ac24-8bdd8c87d9c6",
   "metadata": {},
   "outputs": [
    {
     "data": {
      "text/plain": [
       "array([0, 1, 2, 3, 4, 5])"
      ]
     },
     "execution_count": 11,
     "metadata": {},
     "output_type": "execute_result"
    }
   ],
   "source": [
    "slice=arr[0:6]\n",
    "slice"
   ]
  },
  {
   "cell_type": "code",
   "execution_count": 13,
   "id": "17fbd8a2-1624-4ab0-afb3-0c9746dea85e",
   "metadata": {},
   "outputs": [
    {
     "data": {
      "text/plain": [
       "array([99, 99, 99, 99, 99, 99,  6,  7,  8,  9, 10])"
      ]
     },
     "execution_count": 13,
     "metadata": {},
     "output_type": "execute_result"
    }
   ],
   "source": [
    "slice[:]=99\n",
    "slice\n",
    "arr"
   ]
  },
  {
   "cell_type": "code",
   "execution_count": 14,
   "id": "0d89ffd0-7ab9-41d0-8a9e-acdba44ae36a",
   "metadata": {},
   "outputs": [
    {
     "data": {
      "text/plain": [
       "array([[ 5, 10, 15],\n",
       "       [20, 25, 30],\n",
       "       [25, 40, 50]])"
      ]
     },
     "execution_count": 14,
     "metadata": {},
     "output_type": "execute_result"
    }
   ],
   "source": [
    "arr2d=np.array(([5,10,15],[20,25,30],[25,40,50]))\n",
    "arr2d"
   ]
  },
  {
   "cell_type": "code",
   "execution_count": 15,
   "id": "073a2422-f658-482c-87d8-979cd6e96900",
   "metadata": {},
   "outputs": [
    {
     "data": {
      "text/plain": [
       "array([20, 25, 30])"
      ]
     },
     "execution_count": 15,
     "metadata": {},
     "output_type": "execute_result"
    }
   ],
   "source": [
    "arr2d[1]"
   ]
  },
  {
   "cell_type": "code",
   "execution_count": 17,
   "id": "fbbc81a7-6ff0-4d82-a252-42a0d6244f7f",
   "metadata": {},
   "outputs": [
    {
     "data": {
      "text/plain": [
       "40"
      ]
     },
     "execution_count": 17,
     "metadata": {},
     "output_type": "execute_result"
    }
   ],
   "source": [
    "arr2d[2][1]"
   ]
  },
  {
   "cell_type": "code",
   "execution_count": 18,
   "id": "6806919e-7cf4-4efe-a904-6a986d6ed13a",
   "metadata": {},
   "outputs": [
    {
     "data": {
      "text/plain": [
       "array([[10, 15],\n",
       "       [25, 30]])"
      ]
     },
     "execution_count": 18,
     "metadata": {},
     "output_type": "execute_result"
    }
   ],
   "source": [
    "arr2d[:2,1:]"
   ]
  },
  {
   "cell_type": "code",
   "execution_count": 20,
   "id": "0fe0d90f-38f1-4484-80d8-4c2744d1fc20",
   "metadata": {},
   "outputs": [
    {
     "data": {
      "text/plain": [
       "array([[20, 25]])"
      ]
     },
     "execution_count": 20,
     "metadata": {},
     "output_type": "execute_result"
    }
   ],
   "source": [
    "arr2d[1:2,0:2]"
   ]
  },
  {
   "cell_type": "code",
   "execution_count": 22,
   "id": "8d21e4d8-718b-4939-ae02-5db64a1646ec",
   "metadata": {},
   "outputs": [],
   "source": [
    "aa=np.zeros([5,5])"
   ]
  },
  {
   "cell_type": "code",
   "execution_count": 23,
   "id": "c7afe002-6e9f-4637-9cc1-b9ed660ee4ae",
   "metadata": {},
   "outputs": [
    {
     "data": {
      "text/plain": [
       "array([[0., 0., 0., 0., 0.],\n",
       "       [0., 0., 0., 0., 0.],\n",
       "       [0., 0., 0., 0., 0.],\n",
       "       [0., 0., 0., 0., 0.],\n",
       "       [0., 0., 0., 0., 0.]])"
      ]
     },
     "execution_count": 23,
     "metadata": {},
     "output_type": "execute_result"
    }
   ],
   "source": [
    "aa"
   ]
  },
  {
   "cell_type": "code",
   "execution_count": 28,
   "id": "4463158d-43c4-4b06-acd0-ed65035cb731",
   "metadata": {},
   "outputs": [
    {
     "data": {
      "text/plain": [
       "5"
      ]
     },
     "execution_count": 28,
     "metadata": {},
     "output_type": "execute_result"
    }
   ],
   "source": [
    "aar_len=aa.shape[1]\n",
    "aar_len"
   ]
  },
  {
   "cell_type": "code",
   "execution_count": 29,
   "id": "f39c5a15-9e01-42df-9d66-d4853f598694",
   "metadata": {},
   "outputs": [],
   "source": [
    "for i in range(aar_len):\n",
    "  aa[i]=i"
   ]
  },
  {
   "cell_type": "code",
   "execution_count": 30,
   "id": "cafa9d9f-d538-4151-9847-b742211401b0",
   "metadata": {},
   "outputs": [
    {
     "data": {
      "text/plain": [
       "array([[0., 0., 0., 0., 0.],\n",
       "       [1., 1., 1., 1., 1.],\n",
       "       [2., 2., 2., 2., 2.],\n",
       "       [3., 3., 3., 3., 3.],\n",
       "       [4., 4., 4., 4., 4.]])"
      ]
     },
     "execution_count": 30,
     "metadata": {},
     "output_type": "execute_result"
    }
   ],
   "source": [
    "aa"
   ]
  },
  {
   "cell_type": "code",
   "execution_count": 35,
   "id": "24af7dc8-b326-4851-a92f-fcc43c645404",
   "metadata": {},
   "outputs": [
    {
     "data": {
      "text/plain": [
       "array([[ 0,  1,  2,  3,  4],\n",
       "       [ 5,  6,  7,  8,  9],\n",
       "       [10, 11, 12, 13, 14],\n",
       "       [15, 16, 17, 18, 19],\n",
       "       [20, 21, 22, 23, 24],\n",
       "       [25, 26, 27, 28, 29],\n",
       "       [30, 31, 32, 33, 34],\n",
       "       [35, 36, 37, 38, 39],\n",
       "       [40, 41, 42, 43, 44],\n",
       "       [45, 46, 47, 48, 49]])"
      ]
     },
     "execution_count": 35,
     "metadata": {},
     "output_type": "execute_result"
    }
   ],
   "source": [
    "a=np.arange(50).reshape((10,5))\n",
    "a"
   ]
  },
  {
   "cell_type": "markdown",
   "id": "f0f26ef8-0848-499b-9321-c2a02fdc9af2",
   "metadata": {},
   "source": [
    "tarnspose of an array\n"
   ]
  },
  {
   "cell_type": "code",
   "execution_count": 36,
   "id": "6e313897-36e9-494c-982a-41ce7d1b8386",
   "metadata": {},
   "outputs": [
    {
     "data": {
      "text/plain": [
       "array([[ 0,  5, 10, 15, 20, 25, 30, 35, 40, 45],\n",
       "       [ 1,  6, 11, 16, 21, 26, 31, 36, 41, 46],\n",
       "       [ 2,  7, 12, 17, 22, 27, 32, 37, 42, 47],\n",
       "       [ 3,  8, 13, 18, 23, 28, 33, 38, 43, 48],\n",
       "       [ 4,  9, 14, 19, 24, 29, 34, 39, 44, 49]])"
      ]
     },
     "execution_count": 36,
     "metadata": {},
     "output_type": "execute_result"
    }
   ],
   "source": [
    "a.T"
   ]
  },
  {
   "cell_type": "markdown",
   "id": "bf8215d1-206b-4b8c-9c3e-94c674fbbe3b",
   "metadata": {},
   "source": [
    "dot product of an array"
   ]
  },
  {
   "cell_type": "code",
   "execution_count": 39,
   "id": "a3581b8a-1fdc-4066-9a14-af05ee9c1cc0",
   "metadata": {},
   "outputs": [
    {
     "data": {
      "text/plain": [
       "array([[7125, 7350, 7575, 7800, 8025],\n",
       "       [7350, 7585, 7820, 8055, 8290],\n",
       "       [7575, 7820, 8065, 8310, 8555],\n",
       "       [7800, 8055, 8310, 8565, 8820],\n",
       "       [8025, 8290, 8555, 8820, 9085]])"
      ]
     },
     "execution_count": 39,
     "metadata": {},
     "output_type": "execute_result"
    }
   ],
   "source": [
    "np.dot(a.T,a)"
   ]
  },
  {
   "cell_type": "code",
   "execution_count": 41,
   "id": "f184aa35-0b0a-431d-aba4-323f6f3de491",
   "metadata": {},
   "outputs": [],
   "source": [
    "a3=np.arange(50).reshape((5,2,5))"
   ]
  },
  {
   "cell_type": "code",
   "execution_count": 42,
   "id": "96ef11a4-cedc-4474-92a0-6d096f9bd1ba",
   "metadata": {},
   "outputs": [
    {
     "data": {
      "text/plain": [
       "array([[[ 0,  1,  2,  3,  4],\n",
       "        [ 5,  6,  7,  8,  9]],\n",
       "\n",
       "       [[10, 11, 12, 13, 14],\n",
       "        [15, 16, 17, 18, 19]],\n",
       "\n",
       "       [[20, 21, 22, 23, 24],\n",
       "        [25, 26, 27, 28, 29]],\n",
       "\n",
       "       [[30, 31, 32, 33, 34],\n",
       "        [35, 36, 37, 38, 39]],\n",
       "\n",
       "       [[40, 41, 42, 43, 44],\n",
       "        [45, 46, 47, 48, 49]]])"
      ]
     },
     "execution_count": 42,
     "metadata": {},
     "output_type": "execute_result"
    }
   ],
   "source": [
    "a3"
   ]
  },
  {
   "cell_type": "code",
   "execution_count": 43,
   "id": "80804bdd-c7d9-407c-b730-ebff923bb4b8",
   "metadata": {},
   "outputs": [
    {
     "data": {
      "text/plain": [
       "array([[[ 0, 10, 20, 30, 40],\n",
       "        [ 5, 15, 25, 35, 45]],\n",
       "\n",
       "       [[ 1, 11, 21, 31, 41],\n",
       "        [ 6, 16, 26, 36, 46]],\n",
       "\n",
       "       [[ 2, 12, 22, 32, 42],\n",
       "        [ 7, 17, 27, 37, 47]],\n",
       "\n",
       "       [[ 3, 13, 23, 33, 43],\n",
       "        [ 8, 18, 28, 38, 48]],\n",
       "\n",
       "       [[ 4, 14, 24, 34, 44],\n",
       "        [ 9, 19, 29, 39, 49]]])"
      ]
     },
     "execution_count": 43,
     "metadata": {},
     "output_type": "execute_result"
    }
   ],
   "source": [
    "a3.T"
   ]
  },
  {
   "cell_type": "code",
   "execution_count": 4,
   "id": "2e57b7a5-9fbc-48b9-baea-9b87fc047aed",
   "metadata": {},
   "outputs": [],
   "source": [
    "arr=np.arange(11)"
   ]
  },
  {
   "cell_type": "code",
   "execution_count": 48,
   "id": "91f55110-d0fc-4f13-bcbe-a6c713a36983",
   "metadata": {},
   "outputs": [
    {
     "data": {
      "text/plain": [
       "array([ 0,  1,  2,  3,  4,  5,  6,  7,  8,  9, 10])"
      ]
     },
     "execution_count": 48,
     "metadata": {},
     "output_type": "execute_result"
    }
   ],
   "source": [
    "arr"
   ]
  },
  {
   "cell_type": "code",
   "execution_count": 5,
   "id": "c285a360-e73f-4ac0-92ef-1dd2367c55ad",
   "metadata": {},
   "outputs": [
    {
     "data": {
      "text/plain": [
       "array([0.        , 1.        , 1.41421356, 1.73205081, 2.        ,\n",
       "       2.23606798, 2.44948974, 2.64575131, 2.82842712, 3.        ,\n",
       "       3.16227766])"
      ]
     },
     "execution_count": 5,
     "metadata": {},
     "output_type": "execute_result"
    }
   ],
   "source": [
    "np.sqrt(arr)"
   ]
  },
  {
   "cell_type": "code",
   "execution_count": 6,
   "id": "e03b46a0-f12a-417c-ae6e-1de50fce5973",
   "metadata": {},
   "outputs": [
    {
     "data": {
      "text/plain": [
       "array([1.00000000e+00, 2.71828183e+00, 7.38905610e+00, 2.00855369e+01,\n",
       "       5.45981500e+01, 1.48413159e+02, 4.03428793e+02, 1.09663316e+03,\n",
       "       2.98095799e+03, 8.10308393e+03, 2.20264658e+04])"
      ]
     },
     "execution_count": 6,
     "metadata": {},
     "output_type": "execute_result"
    }
   ],
   "source": [
    "np.exp(arr)"
   ]
  },
  {
   "cell_type": "code",
   "execution_count": 13,
   "id": "8ae19be5-e28c-4ae2-aa3a-8d79d22eca2c",
   "metadata": {},
   "outputs": [
    {
     "data": {
      "text/plain": [
       "array([-0.47500725,  0.70375607,  1.14017121,  2.17001543, -1.13088364,\n",
       "        0.43300106,  0.21090396,  1.43097004, -0.50910485,  0.71631622])"
      ]
     },
     "execution_count": 13,
     "metadata": {},
     "output_type": "execute_result"
    }
   ],
   "source": [
    "p=np.random.randn(10)\n",
    "q=np.random.randn(10)\n",
    "\n",
    "q"
   ]
  },
  {
   "cell_type": "code",
   "execution_count": 14,
   "id": "7775b473-1e50-4b00-8041-d7b5d8626629",
   "metadata": {},
   "outputs": [
    {
     "data": {
      "text/plain": [
       "array([-0.18065663, -0.78242222, -0.84143085, -0.0960075 ,  1.01449846,\n",
       "        1.69284739,  0.61928531,  0.77957389, -0.47144014, -0.02099094])"
      ]
     },
     "execution_count": 14,
     "metadata": {},
     "output_type": "execute_result"
    }
   ],
   "source": [
    "p"
   ]
  },
  {
   "cell_type": "code",
   "execution_count": 8,
   "id": "aa307902-7cf6-4300-b33a-e6dace440903",
   "metadata": {},
   "outputs": [
    {
     "data": {
      "text/plain": [
       "array([-0.88548822,  1.9625879 , -0.59665292,  0.70653045,  0.34237983,\n",
       "        0.32381124,  0.01112   ,  0.41872517,  0.4054243 ,  2.03264997])"
      ]
     },
     "execution_count": 8,
     "metadata": {},
     "output_type": "execute_result"
    }
   ],
   "source": [
    "p+q"
   ]
  },
  {
   "cell_type": "code",
   "execution_count": 9,
   "id": "a9c8b64e-8939-4131-b370-313170114574",
   "metadata": {},
   "outputs": [
    {
     "data": {
      "text/plain": [
       "array([ 0.45143543, -2.47394543,  3.36750724,  1.64196751, -0.92452948,\n",
       "        0.35007325, -2.83876774, -2.95442592, -0.368176  , -0.36943421])"
      ]
     },
     "execution_count": 9,
     "metadata": {},
     "output_type": "execute_result"
    }
   ],
   "source": [
    "p-q"
   ]
  },
  {
   "cell_type": "code",
   "execution_count": 10,
   "id": "9a54ec1f-6b0c-4766-b573-dd8adbd5071d",
   "metadata": {},
   "outputs": [
    {
     "data": {
      "text/plain": [
       "array([-0.88548822,  1.9625879 , -0.59665292,  0.70653045,  0.34237983,\n",
       "        0.32381124,  0.01112   ,  0.41872517,  0.4054243 ,  2.03264997])"
      ]
     },
     "execution_count": 10,
     "metadata": {},
     "output_type": "execute_result"
    }
   ],
   "source": [
    "np.add(p,q)"
   ]
  },
  {
   "cell_type": "code",
   "execution_count": 12,
   "id": "9a6d6b93-2032-4c39-9962-db871f2f9db7",
   "metadata": {},
   "outputs": [
    {
     "data": {
      "text/plain": [
       "array([-0.2170264 ,  2.21826667,  1.38542716,  1.17424898,  0.63345466,\n",
       "        0.33694224,  1.42494387,  1.68657555,  0.38680015,  1.20104209])"
      ]
     },
     "execution_count": 12,
     "metadata": {},
     "output_type": "execute_result"
    }
   ],
   "source": [
    "np.maximum(p,q)"
   ]
  },
  {
   "cell_type": "code",
   "execution_count": 18,
   "id": "7bc65909-a0b9-4b17-b1f4-2a3c30956a82",
   "metadata": {},
   "outputs": [
    {
     "data": {
      "text/plain": [
       "True"
      ]
     },
     "execution_count": 18,
     "metadata": {},
     "output_type": "execute_result"
    }
   ],
   "source": [
    "import webbrowser\n",
    "\n",
    "website = \"https://chatgpt.com/\"\n",
    "webbrowser.open(website)\n"
   ]
  },
  {
   "cell_type": "markdown",
   "id": "1343e36d-2af3-439e-a057-37140a4e69dd",
   "metadata": {},
   "source": [
    "ARRAY PROCESSING"
   ]
  },
  {
   "cell_type": "code",
   "execution_count": 21,
   "id": "8e85de7f-6d95-4125-aefa-dfc2e2d85421",
   "metadata": {},
   "outputs": [],
   "source": [
    "import matplotlib.pyplot as plt\n",
    "import numpy as np\n",
    "%matplotlib inline"
   ]
  },
  {
   "cell_type": "code",
   "execution_count": 24,
   "id": "20a59591-e002-490e-8d60-daf51b1ae38d",
   "metadata": {},
   "outputs": [
    {
     "data": {
      "text/plain": [
       "array([-5.00000000e+00, -4.90000000e+00, -4.80000000e+00, -4.70000000e+00,\n",
       "       -4.60000000e+00, -4.50000000e+00, -4.40000000e+00, -4.30000000e+00,\n",
       "       -4.20000000e+00, -4.10000000e+00, -4.00000000e+00, -3.90000000e+00,\n",
       "       -3.80000000e+00, -3.70000000e+00, -3.60000000e+00, -3.50000000e+00,\n",
       "       -3.40000000e+00, -3.30000000e+00, -3.20000000e+00, -3.10000000e+00,\n",
       "       -3.00000000e+00, -2.90000000e+00, -2.80000000e+00, -2.70000000e+00,\n",
       "       -2.60000000e+00, -2.50000000e+00, -2.40000000e+00, -2.30000000e+00,\n",
       "       -2.20000000e+00, -2.10000000e+00, -2.00000000e+00, -1.90000000e+00,\n",
       "       -1.80000000e+00, -1.70000000e+00, -1.60000000e+00, -1.50000000e+00,\n",
       "       -1.40000000e+00, -1.30000000e+00, -1.20000000e+00, -1.10000000e+00,\n",
       "       -1.00000000e+00, -9.00000000e-01, -8.00000000e-01, -7.00000000e-01,\n",
       "       -6.00000000e-01, -5.00000000e-01, -4.00000000e-01, -3.00000000e-01,\n",
       "       -2.00000000e-01, -1.00000000e-01, -1.77635684e-14,  1.00000000e-01,\n",
       "        2.00000000e-01,  3.00000000e-01,  4.00000000e-01,  5.00000000e-01,\n",
       "        6.00000000e-01,  7.00000000e-01,  8.00000000e-01,  9.00000000e-01,\n",
       "        1.00000000e+00,  1.10000000e+00,  1.20000000e+00,  1.30000000e+00,\n",
       "        1.40000000e+00,  1.50000000e+00,  1.60000000e+00,  1.70000000e+00,\n",
       "        1.80000000e+00,  1.90000000e+00,  2.00000000e+00,  2.10000000e+00,\n",
       "        2.20000000e+00,  2.30000000e+00,  2.40000000e+00,  2.50000000e+00,\n",
       "        2.60000000e+00,  2.70000000e+00,  2.80000000e+00,  2.90000000e+00,\n",
       "        3.00000000e+00,  3.10000000e+00,  3.20000000e+00,  3.30000000e+00,\n",
       "        3.40000000e+00,  3.50000000e+00,  3.60000000e+00,  3.70000000e+00,\n",
       "        3.80000000e+00,  3.90000000e+00,  4.00000000e+00,  4.10000000e+00,\n",
       "        4.20000000e+00,  4.30000000e+00,  4.40000000e+00,  4.50000000e+00,\n",
       "        4.60000000e+00,  4.70000000e+00,  4.80000000e+00,  4.90000000e+00])"
      ]
     },
     "execution_count": 24,
     "metadata": {},
     "output_type": "execute_result"
    }
   ],
   "source": [
    "points=np.arange(-5,5,0.1)\n",
    "points"
   ]
  },
  {
   "cell_type": "code",
   "execution_count": 26,
   "id": "f7a6e304-8b86-4baf-894e-1bbd58f04f7f",
   "metadata": {},
   "outputs": [
    {
     "data": {
      "text/plain": [
       "array([[-5. , -4.9, -4.8, ...,  4.7,  4.8,  4.9],\n",
       "       [-5. , -4.9, -4.8, ...,  4.7,  4.8,  4.9],\n",
       "       [-5. , -4.9, -4.8, ...,  4.7,  4.8,  4.9],\n",
       "       ...,\n",
       "       [-5. , -4.9, -4.8, ...,  4.7,  4.8,  4.9],\n",
       "       [-5. , -4.9, -4.8, ...,  4.7,  4.8,  4.9],\n",
       "       [-5. , -4.9, -4.8, ...,  4.7,  4.8,  4.9]])"
      ]
     },
     "execution_count": 26,
     "metadata": {},
     "output_type": "execute_result"
    }
   ],
   "source": [
    "dx,dy=np.meshgrid(points,points)\n",
    "dx"
   ]
  },
  {
   "cell_type": "code",
   "execution_count": 27,
   "id": "e3caa294-6f1c-4124-840f-00715287760a",
   "metadata": {},
   "outputs": [
    {
     "data": {
      "text/plain": [
       "array([[-5. , -5. , -5. , ..., -5. , -5. , -5. ],\n",
       "       [-4.9, -4.9, -4.9, ..., -4.9, -4.9, -4.9],\n",
       "       [-4.8, -4.8, -4.8, ..., -4.8, -4.8, -4.8],\n",
       "       ...,\n",
       "       [ 4.7,  4.7,  4.7, ...,  4.7,  4.7,  4.7],\n",
       "       [ 4.8,  4.8,  4.8, ...,  4.8,  4.8,  4.8],\n",
       "       [ 4.9,  4.9,  4.9, ...,  4.9,  4.9,  4.9]])"
      ]
     },
     "execution_count": 27,
     "metadata": {},
     "output_type": "execute_result"
    }
   ],
   "source": [
    "dy"
   ]
  },
  {
   "cell_type": "code",
   "execution_count": 30,
   "id": "079a3648-b06f-44a3-96bf-e596a0e7fcc8",
   "metadata": {},
   "outputs": [
    {
     "data": {
      "text/plain": [
       "array([[ 1.91784855e+00,  1.94137689e+00,  1.95508888e+00, ...,\n",
       "        -4.09989829e-02, -3.72403342e-02, -2.35283380e-02],\n",
       "       [ 1.94137689e+00,  1.96490523e+00,  1.97861722e+00, ...,\n",
       "        -1.74706449e-02, -1.37119962e-02, -6.55031585e-15],\n",
       "       [ 1.95508888e+00,  1.97861722e+00,  1.99232922e+00, ...,\n",
       "        -3.75864873e-03, -3.10862447e-15,  1.37119962e-02],\n",
       "       ...,\n",
       "       [-4.09989829e-02, -1.74706449e-02, -3.75864873e-03, ...,\n",
       "        -1.99984652e+00, -1.99608787e+00, -1.98237587e+00],\n",
       "       [-3.72403342e-02, -1.37119962e-02, -3.10862447e-15, ...,\n",
       "        -1.99608787e+00, -1.99232922e+00, -1.97861722e+00],\n",
       "       [-2.35283380e-02, -6.55031585e-15,  1.37119962e-02, ...,\n",
       "        -1.98237587e+00, -1.97861722e+00, -1.96490523e+00]])"
      ]
     },
     "execution_count": 30,
     "metadata": {},
     "output_type": "execute_result"
    }
   ],
   "source": [
    "z=(np.sin(dx)+np.sin(dy))\n",
    "z"
   ]
  },
  {
   "cell_type": "code",
   "execution_count": 31,
   "id": "c2687c43-2255-47ac-9c32-47fb12270e11",
   "metadata": {},
   "outputs": [
    {
     "data": {
      "text/plain": [
       "<matplotlib.image.AxesImage at 0x25df993f610>"
      ]
     },
     "execution_count": 31,
     "metadata": {},
     "output_type": "execute_result"
    },
    {
     "data": {
      "image/png": "[encoded data removed]",
      "text/plain": [
       "<Figure size 640x480 with 1 Axes>"
      ]
     },
     "metadata": {},
     "output_type": "display_data"
    }
   ],
   "source": [
    "plt.imshow(z)"
   ]
  },
  {
   "cell_type": "code",
   "execution_count": 32,
   "id": "0ac60f7c-7edc-41fa-9544-76ec5e3238f5",
   "metadata": {},
   "outputs": [
    {
     "data": {
      "text/plain": [
       "Text(0.5, 1.0, 'plot for sin(x)+sin(y)')"
      ]
     },
     "execution_count": 32,
     "metadata": {},
     "output_type": "execute_result"
    },
    {
     "data": {
      "image/png": "[encoded data removed]",
      "text/plain": [
       "<Figure size 640x480 with 2 Axes>"
      ]
     },
     "metadata": {},
     "output_type": "display_data"
    }
   ],
   "source": [
    "plt.imshow(z)\n",
    "plt.colorbar()\n",
    "plt.title('plot for sin(x)+sin(y)')"
   ]
  },
  {
   "cell_type": "code",
   "execution_count": 7,
   "id": "5ae26008-eff0-4848-81ed-8e5e9c1eed92",
   "metadata": {},
   "outputs": [],
   "source": [
    "X=np.array([1,2,3,4])\n",
    "Y=np.array([100,200,300,400])\n",
    "condition=np.array([True,True,False,False])\n",
    "answer=[(X_val if cond else Y_val ) for X_val ,Y_val,cond in zip(X,Y,condition)]"
   ]
  },
  {
   "cell_type": "code",
   "execution_count": 8,
   "id": "c39a9d26-c803-4ec3-8dac-bd159537dd60",
   "metadata": {},
   "outputs": [
    {
     "data": {
      "text/plain": [
       "[1, 2, 300, 400]"
      ]
     },
     "execution_count": 8,
     "metadata": {},
     "output_type": "execute_result"
    }
   ],
   "source": [
    "answer"
   ]
  },
  {
   "cell_type": "code",
   "execution_count": 9,
   "id": "e5c5b67c-a32e-4b14-bf31-bb1f6e650c49",
   "metadata": {},
   "outputs": [],
   "source": [
    "ans=np.where(condition,X,Y)"
   ]
  },
  {
   "cell_type": "code",
   "execution_count": 10,
   "id": "9c35f432-9f5d-446b-bf88-3bf720b8e63e",
   "metadata": {},
   "outputs": [
    {
     "data": {
      "text/plain": [
       "array([  1,   2, 300, 400])"
      ]
     },
     "execution_count": 10,
     "metadata": {},
     "output_type": "execute_result"
    }
   ],
   "source": [
    "ans"
   ]
  },
  {
   "cell_type": "code",
   "execution_count": 12,
   "id": "b23c1dbb-3b04-4df2-957b-7dd8d9a82f22",
   "metadata": {},
   "outputs": [],
   "source": [
    "from numpy.random import randn\n",
    "arr=randn(5,5)"
   ]
  },
  {
   "cell_type": "code",
   "execution_count": 13,
   "id": "5105ef50-6b76-4487-8684-c377055c98ef",
   "metadata": {},
   "outputs": [
    {
     "data": {
      "text/plain": [
       "array([[-1.16726882,  0.79330384, -2.07167005,  0.32338863,  0.00978783],\n",
       "       [ 0.75754165,  0.58200389, -1.01333167,  1.27453015,  0.43873191],\n",
       "       [-0.91758065,  0.47339763, -0.67874015, -1.44992841,  0.776435  ],\n",
       "       [ 0.34484475,  0.41402725,  0.39014361,  0.80915611,  1.11945729],\n",
       "       [ 0.78204751,  0.11891789,  0.50129511,  0.21717179,  1.43753067]])"
      ]
     },
     "execution_count": 13,
     "metadata": {},
     "output_type": "execute_result"
    }
   ],
   "source": [
    "arr"
   ]
  },
  {
   "cell_type": "code",
   "execution_count": 14,
   "id": "2a365c7a-3b0b-4352-bb03-2fa1fef12d9a",
   "metadata": {},
   "outputs": [
    {
     "data": {
      "text/plain": [
       "array([[0.        , 0.79330384, 0.        , 0.32338863, 0.00978783],\n",
       "       [0.75754165, 0.58200389, 0.        , 1.27453015, 0.43873191],\n",
       "       [0.        , 0.47339763, 0.        , 0.        , 0.776435  ],\n",
       "       [0.34484475, 0.41402725, 0.39014361, 0.80915611, 1.11945729],\n",
       "       [0.78204751, 0.11891789, 0.50129511, 0.21717179, 1.43753067]])"
      ]
     },
     "execution_count": 14,
     "metadata": {},
     "output_type": "execute_result"
    }
   ],
   "source": [
    "np.where(arr<0,0,arr)"
   ]
  },
  {
   "cell_type": "code",
   "execution_count": 16,
   "id": "2ea906f6-0489-4734-b219-8858eeaf7363",
   "metadata": {},
   "outputs": [
    {
     "data": {
      "text/plain": [
       "array([[1, 2, 3],\n",
       "       [4, 5, 6],\n",
       "       [7, 8, 9]])"
      ]
     },
     "execution_count": 16,
     "metadata": {},
     "output_type": "execute_result"
    }
   ],
   "source": [
    "arr=np.array([[1,2,3],[4,5,6],[7,8,9]])\n",
    "arr"
   ]
  },
  {
   "cell_type": "code",
   "execution_count": 17,
   "id": "e6acad02-0892-4795-bd83-809b162527dc",
   "metadata": {},
   "outputs": [
    {
     "data": {
      "text/plain": [
       "45"
      ]
     },
     "execution_count": 17,
     "metadata": {},
     "output_type": "execute_result"
    }
   ],
   "source": [
    "arr.sum()"
   ]
  },
  {
   "cell_type": "code",
   "execution_count": 19,
   "id": "af82c528-96ea-4900-9b45-e2a25221b1e6",
   "metadata": {},
   "outputs": [
    {
     "data": {
      "text/plain": [
       "array([12, 15, 18])"
      ]
     },
     "execution_count": 19,
     "metadata": {},
     "output_type": "execute_result"
    }
   ],
   "source": [
    "arr.sum(0)\n"
   ]
  },
  {
   "cell_type": "code",
   "execution_count": 20,
   "id": "c5f2ac18-d8f0-4099-971a-79415c55075c",
   "metadata": {},
   "outputs": [
    {
     "data": {
      "text/plain": [
       "5.0"
      ]
     },
     "execution_count": 20,
     "metadata": {},
     "output_type": "execute_result"
    }
   ],
   "source": [
    "arr.mean()"
   ]
  },
  {
   "cell_type": "code",
   "execution_count": 21,
   "id": "7b69c6e2-b590-4480-b301-32bb48463440",
   "metadata": {},
   "outputs": [
    {
     "data": {
      "text/plain": [
       "2.581988897471611"
      ]
     },
     "execution_count": 21,
     "metadata": {},
     "output_type": "execute_result"
    }
   ],
   "source": [
    "arr.std()\n"
   ]
  },
  {
   "cell_type": "code",
   "execution_count": 22,
   "id": "1f252e94-dbd8-4db6-a4e1-f80cda1fc54f",
   "metadata": {},
   "outputs": [
    {
     "data": {
      "text/plain": [
       "6.666666666666667"
      ]
     },
     "execution_count": 22,
     "metadata": {},
     "output_type": "execute_result"
    }
   ],
   "source": [
    "arr.var()"
   ]
  },
  {
   "cell_type": "code",
   "execution_count": 23,
   "id": "1f5b1fda-21d3-49c2-ad45-f2028c68d846",
   "metadata": {},
   "outputs": [],
   "source": [
    "ba=np.array([True,False,True])"
   ]
  },
  {
   "cell_type": "code",
   "execution_count": 24,
   "id": "5e57ad6d-f931-4968-b62f-45f8e52d7821",
   "metadata": {},
   "outputs": [
    {
     "data": {
      "text/plain": [
       "True"
      ]
     },
     "execution_count": 24,
     "metadata": {},
     "output_type": "execute_result"
    }
   ],
   "source": [
    "ba.any()"
   ]
  },
  {
   "cell_type": "code",
   "execution_count": 25,
   "id": "14380aa3-ba8b-481a-a7a5-298f9bf232b2",
   "metadata": {},
   "outputs": [
    {
     "data": {
      "text/plain": [
       "False"
      ]
     },
     "execution_count": 25,
     "metadata": {},
     "output_type": "execute_result"
    }
   ],
   "source": [
    "ba.all()"
   ]
  },
  {
   "cell_type": "code",
   "execution_count": 26,
   "id": "a1fd360b-8869-48a2-a6f9-f50576f62602",
   "metadata": {},
   "outputs": [
    {
     "data": {
      "text/plain": [
       "array([ 0.92335772, -0.87268916,  0.64893352,  1.10089306, -1.95714879])"
      ]
     },
     "execution_count": 26,
     "metadata": {},
     "output_type": "execute_result"
    }
   ],
   "source": [
    "#sorting\n",
    "brr=randn(5)\n",
    "brr\n"
   ]
  },
  {
   "cell_type": "code",
   "execution_count": 27,
   "id": "fbc57827-9f77-4f88-9a45-d22ce6ee1b1b",
   "metadata": {},
   "outputs": [
    {
     "data": {
      "text/plain": [
       "array([-1.95714879, -0.87268916,  0.64893352,  0.92335772,  1.10089306])"
      ]
     },
     "execution_count": 27,
     "metadata": {},
     "output_type": "execute_result"
    }
   ],
   "source": [
    "brr.sort()\n",
    "brr\n"
   ]
  },
  {
   "cell_type": "code",
   "execution_count": 28,
   "id": "3f556b31-69cc-403c-a316-abb78911f123",
   "metadata": {},
   "outputs": [
    {
     "data": {
      "text/plain": [
       "array(['cnd', 'ind', 'ny', 'uk', 'usa'], dtype='<U3')"
      ]
     },
     "execution_count": 28,
     "metadata": {},
     "output_type": "execute_result"
    }
   ],
   "source": [
    "countries=np.array(['ny','ind','usa','uk','cnd','usa'])\n",
    "np.unique(countries)"
   ]
  },
  {
   "cell_type": "code",
   "execution_count": 31,
   "id": "11616e8f-06cd-4cdd-a654-0e3ffb27d994",
   "metadata": {},
   "outputs": [
    {
     "data": {
      "text/plain": [
       "array([ True, False])"
      ]
     },
     "execution_count": 31,
     "metadata": {},
     "output_type": "execute_result"
    }
   ],
   "source": [
    "np.in1d(['ind','sweden'],countries)"
   ]
  },
  {
   "cell_type": "code",
   "execution_count": 32,
   "id": "c332675a-f339-4f0d-b79a-6cee94d16cdc",
   "metadata": {},
   "outputs": [
    {
     "data": {
      "text/plain": [
       "array([0, 1, 2, 3, 4])"
      ]
     },
     "execution_count": 32,
     "metadata": {},
     "output_type": "execute_result"
    }
   ],
   "source": [
    "cr=np.arange(5)\n",
    "cr"
   ]
  },
  {
   "cell_type": "code",
   "execution_count": 33,
   "id": "eec4f8aa-20bf-43eb-88ca-6ab918df53d2",
   "metadata": {},
   "outputs": [],
   "source": [
    "np.save('myarray',cr)"
   ]
  },
  {
   "cell_type": "code",
   "execution_count": 34,
   "id": "61c31572-a83f-417c-9e1e-89b33c94a7c3",
   "metadata": {},
   "outputs": [],
   "source": [
    "cr=np.arange(10)"
   ]
  },
  {
   "cell_type": "code",
   "execution_count": 35,
   "id": "fc4efd77-d91d-409d-92ce-e052638364e5",
   "metadata": {},
   "outputs": [
    {
     "data": {
      "text/plain": [
       "array([0, 1, 2, 3, 4, 5, 6, 7, 8, 9])"
      ]
     },
     "execution_count": 35,
     "metadata": {},
     "output_type": "execute_result"
    }
   ],
   "source": [
    "cr\n"
   ]
  },
  {
   "cell_type": "code",
   "execution_count": 36,
   "id": "b48b8089-b881-407f-bf2e-168789092e77",
   "metadata": {},
   "outputs": [
    {
     "data": {
      "text/plain": [
       "array([0, 1, 2, 3, 4])"
      ]
     },
     "execution_count": 36,
     "metadata": {},
     "output_type": "execute_result"
    }
   ],
   "source": [
    "np.load('myarray.npy')"
   ]
  },
  {
   "cell_type": "code",
   "execution_count": 37,
   "id": "3e5ab850-05a5-453a-b656-ae798cc5bfcb",
   "metadata": {},
   "outputs": [
    {
     "data": {
      "text/plain": [
       "array([0, 1, 2, 3, 4])"
      ]
     },
     "execution_count": 37,
     "metadata": {},
     "output_type": "execute_result"
    }
   ],
   "source": [
    "a1=np.load('myarray.npy')\n",
    "a1"
   ]
  },
  {
   "cell_type": "code",
   "execution_count": 38,
   "id": "548edbad-a5e4-4ba6-a080-79ff0e8e6fcf",
   "metadata": {},
   "outputs": [],
   "source": [
    "a2=cr"
   ]
  },
  {
   "cell_type": "code",
   "execution_count": 39,
   "id": "83e09a36-277b-419b-ac31-eb896cba5ab2",
   "metadata": {},
   "outputs": [
    {
     "data": {
      "text/plain": [
       "array([0, 1, 2, 3, 4, 5, 6, 7, 8, 9])"
      ]
     },
     "execution_count": 39,
     "metadata": {},
     "output_type": "execute_result"
    }
   ],
   "source": [
    "a2\n"
   ]
  },
  {
   "cell_type": "code",
   "execution_count": 41,
   "id": "d71d3ec5-c222-4509-9908-487770e9b118",
   "metadata": {},
   "outputs": [],
   "source": [
    "np.savez('ziparray.npz',k=a1,l=a2)\n"
   ]
  },
  {
   "cell_type": "code",
   "execution_count": 42,
   "id": "910a9f78-fcd8-40e5-b61a-fd6981b94cf5",
   "metadata": {},
   "outputs": [],
   "source": [
    "archive_array=np.load('ziparray.npz')"
   ]
  },
  {
   "cell_type": "code",
   "execution_count": 43,
   "id": "0992ca41-1823-4c41-b923-ef8754e22275",
   "metadata": {},
   "outputs": [
    {
     "data": {
      "text/plain": [
       "array([0, 1, 2, 3, 4])"
      ]
     },
     "execution_count": 43,
     "metadata": {},
     "output_type": "execute_result"
    }
   ],
   "source": [
    "archive_array['k']"
   ]
  },
  {
   "cell_type": "code",
   "execution_count": 44,
   "id": "dc66c8f6-913a-4718-8dcf-278bdd56e221",
   "metadata": {},
   "outputs": [
    {
     "data": {
      "text/plain": [
       "array([0, 1, 2, 3, 4, 5, 6, 7, 8, 9])"
      ]
     },
     "execution_count": 44,
     "metadata": {},
     "output_type": "execute_result"
    }
   ],
   "source": [
    "archive_array['l']"
   ]
  },
  {
   "cell_type": "code",
   "execution_count": 45,
   "id": "b6d5d499-c352-4ddd-a832-4d2dd8541815",
   "metadata": {},
   "outputs": [],
   "source": [
    "u=np.array([[1,2,3],[4,5,6]])"
   ]
  },
  {
   "cell_type": "code",
   "execution_count": 47,
   "id": "f06e4f9b-35db-473b-8050-2def4a884b9e",
   "metadata": {},
   "outputs": [],
   "source": [
    "np.savetxt('textarray.txt',u,delimiter=',')"
   ]
  },
  {
   "cell_type": "code",
   "execution_count": 50,
   "id": "19f2c28e-32d0-43df-b4c5-6a44732d6c43",
   "metadata": {},
   "outputs": [
    {
     "name": "stdout",
     "output_type": "stream",
     "text": [
      "[[1. 2. 3.]\n",
      " [4. 5. 6.]]\n"
     ]
    }
   ],
   "source": [
    "f = np.loadtxt('textarray.txt', delimiter=',')\n",
    "print(f)"
   ]
  },
  {
   "cell_type": "code",
   "execution_count": null,
   "id": "a2146115-087a-49f8-830a-c41f00c8aebc",
   "metadata": {},
   "outputs": [],
   "source": []
  }
 ],
 "metadata": {
  "kernelspec": {
   "display_name": "Python 3 (ipykernel)",
   "language": "python",
   "name": "python3"
  },
  "language_info": {
   "codemirror_mode": {
    "name": "ipython",
    "version": 3
   },
   "file_extension": ".py",
   "mimetype": "text/x-python",
   "name": "python",
   "nbconvert_exporter": "python",
   "pygments_lexer": "ipython3",
   "version": "3.11.7"
  }
 },
 "nbformat": 4,
 "nbformat_minor": 5
}
